{
 "cells": [
  {
   "cell_type": "code",
   "execution_count": 1,
   "id": "68638015",
   "metadata": {},
   "outputs": [],
   "source": [
    "#importing the libraries\n",
    "import string"
   ]
  },
  {
   "cell_type": "code",
   "execution_count": 2,
   "id": "1cbdf3e6",
   "metadata": {},
   "outputs": [
    {
     "name": "stdout",
     "output_type": "stream",
     "text": [
      "['a', 'b', 'c', 'd', 'e', 'f', 'g', 'h', 'i', 'j', 'k', 'l', 'm', 'n', 'o', 'p', 'q', 'r', 's', 't', 'u', 'v', 'w', 'x', 'y', 'z']\n"
     ]
    }
   ],
   "source": [
    "# Getting the alphabets from ASCII\n",
    "alphabets = list(string.ascii_lowercase)\n",
    "print(alphabets)"
   ]
  },
  {
   "cell_type": "code",
   "execution_count": 3,
   "id": "8e668bec",
   "metadata": {
    "scrolled": true
   },
   "outputs": [
    {
     "name": "stdout",
     "output_type": "stream",
     "text": [
      "{'a': 0, 'b': 1, 'c': 2, 'd': 3, 'e': 4, 'f': 5, 'g': 6, 'h': 7, 'i': 8, 'j': 9, 'k': 10, 'l': 11, 'm': 12, 'n': 13, 'o': 14, 'p': 15, 'q': 16, 'r': 17, 's': 18, 't': 19, 'u': 20, 'v': 21, 'w': 22, 'x': 23, 'y': 24, 'z': 25}\n"
     ]
    }
   ],
   "source": [
    "# Creating a dictionary using alphabets as key and indexes as value.\n",
    "#We will use the indexes to get the chnaged indexes of the decrypted code after we apply the serect key\n",
    "dictionary = dict(zip(alphabets, range(len(alphabets))))\n",
    "print(dictionary)"
   ]
  },
  {
   "cell_type": "code",
   "execution_count": 10,
   "id": "e1d067c9",
   "metadata": {},
   "outputs": [],
   "source": [
    "#Main function\n",
    "def decode_the_code(encrypted_code, keys):\n",
    "    #Spliting the code to get strings separated by comma, If there are multiple strings with comma\n",
    "    code_split=encrypted_code.split()\n",
    "    #print(code_split)\n",
    "    \n",
    "    #Getting the length of each string\n",
    "    item_length=[]\n",
    "    for i in code_split:\n",
    "        item_length.append(len(i))\n",
    "    #print(item_length)\n",
    " \n",
    "    \n",
    "    #Getting all the characters of the code\n",
    "    for i in range(len(encrypted_code)):\n",
    "        s = ''.join(encrypted_code)\n",
    "    char_list_one=[]\n",
    "    for i in s:\n",
    "        char_list_one.append(i)\n",
    "    \n",
    "    #Getting the index of characters after applying the code\n",
    "    index_long_list=[]\n",
    "    for i in char_list_one:\n",
    "        for key,value in dictionary.items():\n",
    "    #         for value in dictionary:\n",
    "            if i==str(key):\n",
    "                aa=int(value+keys)\n",
    "                index_long_list.append(aa)\n",
    "                break\n",
    "    #Here short list shows the indexes of characters of the decrypted code\n",
    "    index_short_list=[]\n",
    "    for i in index_long_list:\n",
    "        if int(i)/25>1:\n",
    "            index_short_list.append(int(i)%25)\n",
    "        else:\n",
    "            index_short_list.append(i)\n",
    "    #print(index_short_list)\n",
    "    \n",
    "    #Getting the alphabets of the decoded code\n",
    "    char_list_two=[]\n",
    "    for i in index_short_list:\n",
    "        for j in alphabets:\n",
    "            if i==alphabets.index(j):\n",
    "                char_list_two.append(j)\n",
    "    #print(char_list_two)\n",
    "    \n",
    "\n",
    "    #Getting the unspaced decrypted code string\n",
    "    unspaced_code=(''.join(map(str, char_list_two)))\n",
    "    unspaced_code\n",
    "\n",
    "    unspaced_code_strings=[]\n",
    "    for i in item_length:\n",
    "        #print(i)\n",
    "        unspaced_code_strings.append(unspaced_code[:i])\n",
    "        unspaced_code=unspaced_code[i:]\n",
    "    unspaced_code_strings\n",
    "    \n",
    "    \n",
    "    #Getting the final code\n",
    "    decrypted_code=\" \".join(unspaced_code_strings)\n",
    "    return decrypted_code"
   ]
  },
  {
   "cell_type": "code",
   "execution_count": 11,
   "id": "4e4f1a00",
   "metadata": {},
   "outputs": [
    {
     "name": "stdout",
     "output_type": "stream",
     "text": [
      "> Please enter the code here: fdg klu zxc\n",
      "> Enter the secret key: 2\n"
     ]
    },
    {
     "data": {
      "text/plain": [
       "'hfi mnw cze'"
      ]
     },
     "execution_count": 11,
     "metadata": {},
     "output_type": "execute_result"
    }
   ],
   "source": [
    "encrypted_code = input('> Please enter the code here: ')\n",
    "keys = int(input('> Enter the secret key: '))\n",
    "decode_the_code(encrypted_code,keys)"
   ]
  },
  {
   "cell_type": "code",
   "execution_count": null,
   "id": "1d5a0a76",
   "metadata": {},
   "outputs": [],
   "source": []
  }
 ],
 "metadata": {
  "kernelspec": {
   "display_name": "Python 3 (ipykernel)",
   "language": "python",
   "name": "python3"
  },
  "language_info": {
   "codemirror_mode": {
    "name": "ipython",
    "version": 3
   },
   "file_extension": ".py",
   "mimetype": "text/x-python",
   "name": "python",
   "nbconvert_exporter": "python",
   "pygments_lexer": "ipython3",
   "version": "3.9.12"
  }
 },
 "nbformat": 4,
 "nbformat_minor": 5
}
